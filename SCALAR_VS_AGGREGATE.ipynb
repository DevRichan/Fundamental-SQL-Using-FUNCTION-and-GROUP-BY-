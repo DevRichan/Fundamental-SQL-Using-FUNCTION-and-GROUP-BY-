{
  "nbformat": 4,
  "nbformat_minor": 0,
  "metadata": {
    "colab": {
      "name": "SCALAR VS AGGREGATE.ipynb",
      "provenance": [],
      "collapsed_sections": [],
      "authorship_tag": "ABX9TyOsN96wy5SBdLWAX+0ZBIpQ",
      "include_colab_link": true
    },
    "kernelspec": {
      "name": "python3",
      "display_name": "Python 3"
    }
  },
  "cells": [
    {
      "cell_type": "markdown",
      "metadata": {
        "id": "view-in-github",
        "colab_type": "text"
      },
      "source": [
        "<a href=\"https://colab.research.google.com/github/DevRichan/Fundamental-SQL-Using-FUNCTION-and-GROUP-BY-/blob/master/SCALAR_VS_AGGREGATE.ipynb\" target=\"_parent\"><img src=\"https://colab.research.google.com/assets/colab-badge.svg\" alt=\"Open In Colab\"/></a>"
      ]
    },
    {
      "cell_type": "markdown",
      "metadata": {
        "id": "nPKv7v378KQ-",
        "colab_type": "text"
      },
      "source": [
        "**Fungsi Scalar vs Fungsi Aggregate**\n",
        "\n",
        "Fungsi adalah metode yang digunakan untuk melakukan operasi data di database. Operasi ini bisa berupa kalkulasi numerik seperti sum, count, avg, etc; atau operasi non-numerik seperti string concatenations dan sub-strings. SQL Function dapat dibagi ke dalam 2 kategori, yaitufungsi scalar dan fungsi aggregate.\n",
        "\n",
        "Fungsi skalar dalam SQL digunakan untuk mengembalikan nilai tunggal (single value) dari suatu nilai input yang diberikan, sedangkan fungsi agregat dalam SQL digunakan untuk melakukan perhitungan pada sekelompok nilai dan kemudian mengembalikan nilai tunggal. Nah, biar lebih mudah dipahami mari kita bahas dan praktekkan fungsi-fungsi dari kedua kategori ini.”\n"
      ]
    },
    {
      "cell_type": "markdown",
      "metadata": {
        "id": "ipHY2Z1K99UH",
        "colab_type": "text"
      },
      "source": [
        "1. Fungsi Scalar \n",
        "\n",
        "\n",
        "\n",
        "```\n",
        "# This is formatted as code\n",
        "```\n",
        "\n"
      ]
    },
    {
      "cell_type": "code",
      "metadata": {
        "id": "L4Dg1xb0-CCF",
        "colab_type": "code",
        "colab": {}
      },
      "source": [
        "#https://dev.mysql.com/doc/refman/8.0/en/mathematical-functions.html\n",
        "\n",
        "#Number\n",
        "#SELECT ABS() \n",
        "SELECT StudentID, FirstName, LastName, Semester1, Semester2, ABS(MarkGrowth) as markgrowth FROM students\t\t\t\n",
        "\n",
        "#SELECT CEILING()\n",
        "SELECT StudentID, FirstName, LastName, Ceiling(Semester1) as Semester1, CEILING(Semester2) as Semester2, MarkGrowth FROM students;\t\t\t\t\n",
        "\n",
        "#SElECT FLOOR()\n",
        "SELECT StudentID, FirstName, LastName, FLOOR(Semester1) as Semester1, FLOOR(Semester2) as Semester2, MarkGrowth FROM students;\t\t\t\t\n",
        "\n",
        "#SELCET ROUND()\n",
        "SELECT StudentID, FirstName, LastName, ROUND(Semester1, 1) as Semester1, ROUND(Semester1, 0) as Semester2, MarkGrowth FROM students;\t\t\t\t\t\t\t\t\n",
        "\n",
        "#SELECT SQRT()\n",
        "SELECT StudentID, FirstName, LastName, SQRT(Semester1) as Semester1, Semester2, MarkGrowth FROM students;\t\n",
        "\n",
        "\n",
        "#https://dev.mysql.com/doc/refman/8.0/en/string-functions.html\n",
        "#String\n",
        "#SELECT CONCAT\n",
        "SELECT StudentID, CONCAT(FirstName, LastName) as Name, Semester1, Semester2, MarkGrowth FROM students\t\t\t\t\n",
        "\n",
        "#SELECT SUBSTRING_INDEX\n",
        "SELECT StudentID, SUBSTRING_INDEX(Email, '@',1) as Name FROM students\t\t\n",
        "#column --> merupakan nama kolom yang akan dipecah text-nya,\n",
        "#delimiter --> karakter atau gabungan beberapa karakter untuk pemecah text pada kolom bersangkutan,\n",
        "#index_to_return --> indeks dari pecahan text yang akan diambil.\t\t\t\t\t\n",
        "\n",
        "#SELECT SUBSTR()\n",
        "SELECT StudentId, SUBSTR(FirstName, 2, 3) as Initial FROM students\n",
        "\n",
        "#SELECT LENGTH()\n",
        "SELECT StudentID, FirstName, LENGTH(FirstName) as Total_Char FROM students;\t\t\t\n",
        "\n",
        "#SELECT REPLACE()\n",
        "SELECT StudentID, Email, REPLACE(EMAIL, 'yahoo', 'gmail') as New_Email FROM students;\t\t\t\t\t\t\t\t"
      ],
      "execution_count": null,
      "outputs": []
    },
    {
      "cell_type": "code",
      "metadata": {
        "id": "goz9ffg-ZHNo",
        "colab_type": "code",
        "colab": {}
      },
      "source": [
        "#Tugas Praktek\n",
        "\n",
        "SELECT StudentID, FirstName, LastName, MOD(Semester1,2) AS Semester1, Semester2, EXP(MarkGrowth) FROM students\n",
        "Tugas Praktek\n",
        "Tugas:\n",
        "Gunakan fungsi MOD() untuk menghitung nilai sisa jika nilai Semester1 dibagi 2 dan fungsi EXP() untuk menghitung nilai eksponensial dari nilai MarkGrowth. Gunakan kedua fungsi tersebut dalam satu SELECT-Statement. \n",
        "\n",
        "#Tugas Praktek 2\n",
        "Gunakan fungsi UPPER() untuk mengubah kolom FirstName menjadi seluruhnya kapital dan gunakan LOWER() untuk mengubah kolom LastName menjadi seluruhnya non-kapital. Gunakan kedua fungsi tersebut dalam satu SELECT-Statement.\n",
        "\n",
        "Jika berhasil, berikut output tabel yang diperoleh:\n",
        "SELECT StudentID, UPPER(FirstName) as FirstName, LOWER(LastName) as LastName FROM students\t\t\t\t"
      ],
      "execution_count": null,
      "outputs": []
    },
    {
      "cell_type": "code",
      "metadata": {
        "id": "xccIk5YmZWhp",
        "colab_type": "code",
        "colab": {
          "base_uri": "https://localhost:8080/",
          "height": 34
        },
        "outputId": "c4c48b73-18e9-41dc-9195-5e3f231d6fb5"
      },
      "source": [
        "print(9 % 4)"
      ],
      "execution_count": null,
      "outputs": [
        {
          "output_type": "stream",
          "text": [
            "1\n"
          ],
          "name": "stdout"
        }
      ]
    },
    {
      "cell_type": "markdown",
      "metadata": {
        "id": "jiqtlSD3xJR0",
        "colab_type": "text"
      },
      "source": [
        "2. Fungsi Aggregate "
      ]
    },
    {
      "cell_type": "code",
      "metadata": {
        "id": "gW6MAkvb76Su",
        "colab_type": "code",
        "colab": {}
      },
      "source": [
        "#SELECT SUM\n",
        "SELECT SUM(Semester1) as Total_1, SUM(Semester2) as Total_2 FROM students\t\t\t\t\n",
        "\n",
        "#SELECT COUNT\n",
        "SELECT COUNT(FirstName) as Total_Student FROM students\n",
        "\n",
        "#SELECT AVG\n",
        "SELECT AVG(Semester1) as AVG_1, AVG(Semester2) as AVG_2 FROM students\t\t\t\t\n"
      ],
      "execution_count": null,
      "outputs": []
    },
    {
      "cell_type": "code",
      "metadata": {
        "id": "GIR-U_DEyPVv",
        "colab_type": "code",
        "colab": {}
      },
      "source": [
        "#TUGAS PRAKTEK\n",
        "#Setelah memahami fungsi-fungsi sebelumnya, kali ini Senja memintaku untuk menggunakan \n",
        "#fungsi MIN() dan MAX() untuk menghitung nilai dari kolom Semester1 dan Semester2. \n",
        "#Aku menggunakan fungsi tersebut dalam satu SELECT-Statement.\n",
        "#Jika berhasil, berikut output tabel yang diperoleh:\n",
        "\n",
        "SELECT MIN(Semester1) as Min1, MAX(Semester1) as MAX1, MIN(Semester2) as Min2 , Max(Semester2) as Max2  FROM students\t\t\t\t"
      ],
      "execution_count": null,
      "outputs": []
    }
  ]
}