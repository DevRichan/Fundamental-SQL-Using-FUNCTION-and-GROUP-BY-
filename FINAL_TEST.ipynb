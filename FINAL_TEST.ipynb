{
  "nbformat": 4,
  "nbformat_minor": 0,
  "metadata": {
    "colab": {
      "name": "FINAL TEST.ipynb",
      "provenance": [],
      "collapsed_sections": [],
      "authorship_tag": "ABX9TyNEFngwUFVWbNpk4fP7SxK/",
      "include_colab_link": true
    },
    "kernelspec": {
      "name": "python3",
      "display_name": "Python 3"
    }
  },
  "cells": [
    {
      "cell_type": "markdown",
      "metadata": {
        "id": "view-in-github",
        "colab_type": "text"
      },
      "source": [
        "<a href=\"https://colab.research.google.com/github/DevRichan/Fundamental-SQL-Using-FUNCTION-and-GROUP-BY-/blob/master/FINAL_TEST.ipynb\" target=\"_parent\"><img src=\"https://colab.research.google.com/assets/colab-badge.svg\" alt=\"Open In Colab\"/></a>"
      ]
    },
    {
      "cell_type": "markdown",
      "metadata": {
        "id": "IDSD2g0jAmZP",
        "colab_type": "text"
      },
      "source": [
        "Aksara, saya senang dengan perkembanganmu belakangan ini. Saya mau minta tolong agar kamu melakukan analisis penjualan di suatu store. Adapun laporan yang diminta sebagai berikut:\n",
        "\n",
        "Total jumlah seluruh penjualan (total/revenue).\n",
        "Total quantity seluruh produk yang terjual.\n",
        "Total quantity dan total revenue untuk setiap kode produk.\n",
        "Rata - Rata total belanja per kode pelanggan.\n",
        "Selain itu,  jangan lupa untuk menambahkan kolom baru dengan nama ‘kategori’ yang mengkategorikan total/revenue ke dalam 3 kategori: High: > 300K; Medium: 100K - 300K; Low: <100K."
      ]
    },
    {
      "cell_type": "markdown",
      "metadata": {
        "id": "giODfo4uCRD6",
        "colab_type": "text"
      },
      "source": [
        "Aku pun membuka email proyek dari Senja sambil menyeruput boba milk tea favoritku.\n",
        "\n",
        " \n",
        "\n",
        "Aksara, saya senang dengan perkembanganmu belakangan ini. Saya mau minta tolong agar kamu melakukan analisis penjualan di suatu store. Adapun laporan yang diminta sebagai berikut:\n",
        "\n",
        "Total jumlah seluruh penjualan (total/revenue).\n",
        "Total quantity seluruh produk yang terjual.\n",
        "Total quantity dan total revenue untuk setiap kode produk.\n",
        "\n",
        "\n"
      ]
    },
    {
      "cell_type": "code",
      "metadata": {
        "id": "kEn1NShz9Yfn",
        "colab_type": "code",
        "colab": {}
      },
      "source": [
        "-- 1. Total jumlah seluruh penjualan (total/revenue).\n",
        "SELECT sum(total) as total \n",
        "FROM tr_penjualan;\n",
        "-- 2. Total quantity seluruh produk yang terjual.\n",
        "SELECT sum(qty) as qty \n",
        "FROM tr_penjualan;\n",
        "-- 3. Total quantity dan total revenue untuk setiap kode produk.\n",
        "SELECT kode_produk, sum(qty) as qty, sum(total) as total \n",
        "FROM tr_penjualan\n",
        "GROUP BY kode_produk;\n",
        "-- 4. Rata - Rata total belanja per kode pelanggan.\n",
        "SELECT kode_pelanggan, avg(total) as avg_total \n",
        "FROM tr_penjualan\n",
        "GROUP BY kode_pelanggan;\n",
        "/* 5. Selain itu,  jangan lupa untuk menambahkan kolom baru \n",
        "dengan nama ‘kategori’ yang mengkategorikan total/revenue ke dalam \n",
        "3 kategori: High: >= 300K; Medium: 100K - 300K; Low: <100K. */\n",
        "SELECT kode_transaksi,kode_pelanggan,no_urut,kode_produk, nama_produk, qty, total,\n",
        "CASE  \n",
        "    WHEN total > 300000 THEN 'High'\n",
        "    WHEN total < 100000 THEN 'Low'   \n",
        "    ELSE 'Medium'  \n",
        "END as kategori \n",
        "FROM tr_penjualan;\n",
        "\n"
      ],
      "execution_count": null,
      "outputs": []
    },
    {
      "cell_type": "code",
      "metadata": {
        "id": "xO7Pc8bKDnxJ",
        "colab_type": "code",
        "colab": {}
      },
      "source": [
        ""
      ],
      "execution_count": null,
      "outputs": []
    },
    {
      "cell_type": "markdown",
      "metadata": {
        "id": "k8h9mp7_DoRL",
        "colab_type": "text"
      },
      "source": [
        "Penggunaan fungsi skalar dan fungsi aggregate dalam operasi string dan numerik di SQL database\n",
        "Penggunaan GROUP BY dalam mengelompokkan data dan memahami konsep menggabungkan GROUP BY dengan fungsi aggregate\n",
        "Penggunaan CASE Statement untuk struktur pengambilan keputusan.\n",
        "Mengerjakan mini project yang merupakan integrasi keseluruhan materi dan tentunya materi-materi pada modul-modul sebelumnya untuk menyelesaikan persoalan bisnis."
      ]
    }
  ]
}