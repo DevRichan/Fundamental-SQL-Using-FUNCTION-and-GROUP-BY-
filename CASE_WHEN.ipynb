{
  "nbformat": 4,
  "nbformat_minor": 0,
  "metadata": {
    "colab": {
      "name": "CASE WHEN.ipynb",
      "provenance": [],
      "collapsed_sections": [],
      "authorship_tag": "ABX9TyNdBjhD9gUJWbXqc/PqlwsT",
      "include_colab_link": true
    },
    "kernelspec": {
      "name": "python3",
      "display_name": "Python 3"
    }
  },
  "cells": [
    {
      "cell_type": "markdown",
      "metadata": {
        "id": "view-in-github",
        "colab_type": "text"
      },
      "source": [
        "<a href=\"https://colab.research.google.com/github/DevRichan/Fundamental-SQL-Using-FUNCTION-and-GROUP-BY-/blob/master/CASE_WHEN.ipynb\" target=\"_parent\"><img src=\"https://colab.research.google.com/assets/colab-badge.svg\" alt=\"Open In Colab\"/></a>"
      ]
    },
    {
      "cell_type": "markdown",
      "metadata": {
        "id": "a5M9FWEi4uGS",
        "colab_type": "text"
      },
      "source": [
        "**CASE...WHEN...**\n",
        "\n",
        "CASE - Statement ditempatkan sesudah SELECT, berikut syntax-nya secara lengkap :\n",
        "\n",
        "SELECT ColumnName1, ColumnName2,  \n",
        "CASE  \n",
        "    WHEN condition1 THEN result1  \n",
        "    WHEN condition2 THEN result2  \n",
        "    WHEN conditionN THEN resultN  \n",
        "    ELSE result  \n",
        "END as alias  \n",
        "FROM TableName; "
      ]
    },
    {
      "cell_type": "markdown",
      "metadata": {
        "id": "srn-A0xA8sxQ",
        "colab_type": "text"
      },
      "source": [
        "**Tugas Praktek**\n",
        "Tugas:\n",
        "Dengan menggunakan data sales_retail_2019,  buatlah syntax query yang menggunakan fungsi skalar MONTH() untuk mengubah order_date dari tanggal ke bulan, fungsi aggregate SUM() untuk menjumlahkan kolom item_price.\n",
        "\n",
        "Tambahkan kolom remark menggunakan CASE… WHEN… statement. Jika sum(item_price) >= 30.000.000.000, maka remark-nya “Target Achieved”; Jika sum(item_price) <= 25.000.000.000 maka remark-nya “Less performed”; Selain itu, beri remark “Follow Up”.\n",
        "\n",
        "Tugas:\n",
        "Gantilah tanda _ _ _ di code editor dengan yang sesuai seperti yang dideskripsikan pada soal di atas.\n",
        "\n",
        " \n",
        "\n",
        "Jika berhasil, tabel yang akan muncul adalah seperti berikut ini:"
      ]
    },
    {
      "cell_type": "code",
      "metadata": {
        "id": "Wa6EOfVo4q-5",
        "colab_type": "code",
        "colab": {}
      },
      "source": [
        "SELECT MONTH(order_date) AS order_month, SUM(item_price) AS total_price, \n",
        "CASE  \n",
        "    WHEN sum(item_price) >= 30000000000 THEN 'Target Achieved'\n",
        "    WHEN sum(item_price) <= 25000000000 THEN 'Less Performed'\n",
        "    ELSE 'Follow Up'\n",
        "END as remark\n",
        "FROM sales_retail_2019\n",
        "GROUP BY MONTH(order_date);"
      ],
      "execution_count": null,
      "outputs": []
    },
    {
      "cell_type": "code",
      "metadata": {
        "id": "RUT4z8LB8sRr",
        "colab_type": "code",
        "colab": {}
      },
      "source": [
        ""
      ],
      "execution_count": null,
      "outputs": []
    }
  ]
}