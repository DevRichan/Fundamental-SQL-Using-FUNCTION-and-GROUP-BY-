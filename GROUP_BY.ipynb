{
  "nbformat": 4,
  "nbformat_minor": 0,
  "metadata": {
    "colab": {
      "name": "GROUP BY.ipynb",
      "provenance": [],
      "collapsed_sections": [],
      "authorship_tag": "ABX9TyMXC4tDA9pknogN8M8tSKQc",
      "include_colab_link": true
    },
    "kernelspec": {
      "name": "python3",
      "display_name": "Python 3"
    }
  },
  "cells": [
    {
      "cell_type": "markdown",
      "metadata": {
        "id": "view-in-github",
        "colab_type": "text"
      },
      "source": [
        "<a href=\"https://colab.research.google.com/github/DevRichan/Fundamental-SQL-Using-FUNCTION-and-GROUP-BY-/blob/master/GROUP_BY.ipynb\" target=\"_parent\"><img src=\"https://colab.research.google.com/assets/colab-badge.svg\" alt=\"Open In Colab\"/></a>"
      ]
    },
    {
      "cell_type": "code",
      "metadata": {
        "id": "L4QUuGKa1KMK",
        "colab_type": "code",
        "colab": {}
      },
      "source": [
        "#Group by Single Column\n",
        "\n",
        "SELECT province, COUNT(DISTINCT order_id) as total_order, SUM(item_price) as total_price FROM sales_retail_2019 GROUP BY province\n",
        "\n",
        "#Group by Multiple Column\n",
        "#Dengan fungsi Group by Multiple Column, data dapat dikelompokkan \n",
        "#menggunakan kriteria dari dua kolom atau lebih, misalnya mengelompokkan data berdasarkan province dan brand.\n",
        "\n",
        "SELECT province, brand, COUNT(DISTINCT order_id) as total_order, SUM(item_price) as total_price FROM sales_retail_2019 GROUP BY province, brand\t\t\t\n",
        "\n",
        "#Fungsi Aggregate dengan Grouping\n",
        "#“Tambahan lagi, Aksara. Kamu masih ingatkan fungsi agregasi yang kita pelajari dan praktikkan sebelumnya? \n",
        "#Pada fungsi itu kita belum menggunakan group by sehingga hasil SUM dan COUNT kita adalah hasil SUM dan COUNT \n",
        "#dari seluruh baris yang ada di tabel data penjualan.”\n",
        "#“Ada data penjualannya kah, Nja? Biar lebih mudah membayangkan dan mempraktikkannya,” usulku.\n",
        "#Senja membuka data penjualan perusahaan tahun lalu untukku. Wow!\n",
        "#“Kalau begitu, kita praktik langsung saja. Sekarang coba kamu gunakan fungsi agregasi dan GROUP BY \n",
        "#untuk menghitung total penjualan dari setiap provinsi di tahun 2019, dan kita bandingkan dengan hasil \n",
        "#fungsi agregasi tanpa menggunakan group by,” pinta Senja.\n",
        "\n",
        " \n",
        "\n",
        "SELECT province, COUNT(DISTINCT order_id) AS total_unique_order, SUM(item_price) AS revenue FROM sales_retail_2019 GROUP BY province"
      ],
      "execution_count": null,
      "outputs": []
    }
  ]
}